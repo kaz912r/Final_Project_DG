{
 "cells": [
  {
   "cell_type": "markdown",
   "id": "6c32fa17",
   "metadata": {},
   "source": [
    "**PROBLEM :** Classification of corrosion severity levels. By utilizing different Machine Learning algorithms and their hyperparameter optimization to present the best performing moddel."
   ]
  },
  {
   "cell_type": "markdown",
   "id": "a7441587",
   "metadata": {},
   "source": [
    "**Sanaullah Shah + Herbert + Jasmine     LISUM11       Data Science  iamkadhimi@gmail.com    Pakistan  NUST, Islamabad**"
   ]
  },
  {
   "cell_type": "markdown",
   "id": "773dd6a3",
   "metadata": {},
   "source": [
    "# **WEEK 9**"
   ]
  },
  {
   "cell_type": "markdown",
   "id": "2b0f1998",
   "metadata": {},
   "source": [
    "# Import Libraries"
   ]
  },
  {
   "cell_type": "code",
   "execution_count": null,
   "id": "50f67e25",
   "metadata": {},
   "outputs": [],
   "source": [
    "import numpy as np\n",
    "import pandas as pd\n",
    "import matplotlib.pyplot as plt\n",
    "import seaborn as sns"
   ]
  },
  {
   "cell_type": "code",
   "execution_count": null,
   "id": "521c174e",
   "metadata": {},
   "outputs": [],
   "source": [
    "df = pd.read_csv(r'C:\\Users\\User1\\Desktop\\MLData.csv')\n",
    "df.head()"
   ]
  },
  {
   "cell_type": "code",
   "execution_count": 3,
   "id": "87576d28",
   "metadata": {},
   "outputs": [
    {
     "data": {
      "text/plain": [
       "Index(['Sample#', 'Target', 'Weight before[g]', 'Weight After[g]',\n",
       "       'Weight Loss[g]', '%Weight Loss', 'Thickness Before [mm]',\n",
       "       'Thickness After[mm] ', 'Thickness Loss[mm]', '% Thickness Loss',\n",
       "       'Time(hrs)', 'Surface Area[L*W]'],\n",
       "      dtype='object')"
      ]
     },
     "execution_count": 3,
     "metadata": {},
     "output_type": "execute_result"
    }
   ],
   "source": [
    "df.columns"
   ]
  },
  {
   "cell_type": "code",
   "execution_count": 4,
   "id": "bfff961b",
   "metadata": {},
   "outputs": [
    {
     "data": {
      "text/plain": [
       "Sample#                  0\n",
       "Target                   0\n",
       "Weight before[g]         0\n",
       "Weight After[g]          0\n",
       "Weight Loss[g]           0\n",
       "%Weight Loss             0\n",
       "Thickness Before [mm]    0\n",
       "Thickness After[mm]      0\n",
       "Thickness Loss[mm]       0\n",
       "% Thickness Loss         0\n",
       "Time(hrs)                0\n",
       "Surface Area[L*W]        0\n",
       "dtype: int64"
      ]
     },
     "execution_count": 4,
     "metadata": {},
     "output_type": "execute_result"
    }
   ],
   "source": [
    "df.isna().sum()"
   ]
  },
  {
   "cell_type": "code",
   "execution_count": 5,
   "id": "758a89da",
   "metadata": {},
   "outputs": [
    {
     "name": "stdout",
     "output_type": "stream",
     "text": [
      "<class 'pandas.core.frame.DataFrame'>\n",
      "RangeIndex: 48 entries, 0 to 47\n",
      "Data columns (total 12 columns):\n",
      " #   Column                 Non-Null Count  Dtype  \n",
      "---  ------                 --------------  -----  \n",
      " 0   Sample#                48 non-null     int64  \n",
      " 1   Target                 48 non-null     object \n",
      " 2   Weight before[g]       48 non-null     float64\n",
      " 3   Weight After[g]        48 non-null     float64\n",
      " 4   Weight Loss[g]         48 non-null     float64\n",
      " 5   %Weight Loss           48 non-null     float64\n",
      " 6   Thickness Before [mm]  48 non-null     float64\n",
      " 7   Thickness After[mm]    48 non-null     float64\n",
      " 8   Thickness Loss[mm]     48 non-null     float64\n",
      " 9   % Thickness Loss       48 non-null     float64\n",
      " 10  Time(hrs)              48 non-null     int64  \n",
      " 11  Surface Area[L*W]      48 non-null     float64\n",
      "dtypes: float64(9), int64(2), object(1)\n",
      "memory usage: 4.6+ KB\n"
     ]
    }
   ],
   "source": [
    "df.info()"
   ]
  },
  {
   "cell_type": "code",
   "execution_count": 6,
   "id": "2f125b18",
   "metadata": {},
   "outputs": [
    {
     "data": {
      "text/html": [
       "<div>\n",
       "<style scoped>\n",
       "    .dataframe tbody tr th:only-of-type {\n",
       "        vertical-align: middle;\n",
       "    }\n",
       "\n",
       "    .dataframe tbody tr th {\n",
       "        vertical-align: top;\n",
       "    }\n",
       "\n",
       "    .dataframe thead th {\n",
       "        text-align: right;\n",
       "    }\n",
       "</style>\n",
       "<table border=\"1\" class=\"dataframe\">\n",
       "  <thead>\n",
       "    <tr style=\"text-align: right;\">\n",
       "      <th></th>\n",
       "      <th>Sample#</th>\n",
       "      <th>Weight before[g]</th>\n",
       "      <th>Weight After[g]</th>\n",
       "      <th>Weight Loss[g]</th>\n",
       "      <th>%Weight Loss</th>\n",
       "      <th>Thickness Before [mm]</th>\n",
       "      <th>Thickness After[mm]</th>\n",
       "      <th>Thickness Loss[mm]</th>\n",
       "      <th>% Thickness Loss</th>\n",
       "      <th>Time(hrs)</th>\n",
       "      <th>Surface Area[L*W]</th>\n",
       "    </tr>\n",
       "  </thead>\n",
       "  <tbody>\n",
       "    <tr>\n",
       "      <th>count</th>\n",
       "      <td>48.00</td>\n",
       "      <td>48.000000</td>\n",
       "      <td>48.000000</td>\n",
       "      <td>48.000000</td>\n",
       "      <td>48.000000</td>\n",
       "      <td>48.000000</td>\n",
       "      <td>48.000000</td>\n",
       "      <td>48.000000</td>\n",
       "      <td>48.000000</td>\n",
       "      <td>48.000000</td>\n",
       "      <td>48.00</td>\n",
       "    </tr>\n",
       "    <tr>\n",
       "      <th>mean</th>\n",
       "      <td>24.50</td>\n",
       "      <td>67.548333</td>\n",
       "      <td>62.205625</td>\n",
       "      <td>5.342708</td>\n",
       "      <td>7.906681</td>\n",
       "      <td>6.078333</td>\n",
       "      <td>5.715417</td>\n",
       "      <td>0.362917</td>\n",
       "      <td>5.960562</td>\n",
       "      <td>2.500000</td>\n",
       "      <td>2.25</td>\n",
       "    </tr>\n",
       "    <tr>\n",
       "      <th>std</th>\n",
       "      <td>14.00</td>\n",
       "      <td>3.530610</td>\n",
       "      <td>4.123623</td>\n",
       "      <td>2.603403</td>\n",
       "      <td>3.821401</td>\n",
       "      <td>0.081249</td>\n",
       "      <td>0.168371</td>\n",
       "      <td>0.173940</td>\n",
       "      <td>2.825970</td>\n",
       "      <td>1.129865</td>\n",
       "      <td>0.00</td>\n",
       "    </tr>\n",
       "    <tr>\n",
       "      <th>min</th>\n",
       "      <td>1.00</td>\n",
       "      <td>63.350000</td>\n",
       "      <td>55.090000</td>\n",
       "      <td>1.430000</td>\n",
       "      <td>2.153939</td>\n",
       "      <td>5.990000</td>\n",
       "      <td>5.380000</td>\n",
       "      <td>0.110000</td>\n",
       "      <td>1.833333</td>\n",
       "      <td>1.000000</td>\n",
       "      <td>2.25</td>\n",
       "    </tr>\n",
       "    <tr>\n",
       "      <th>25%</th>\n",
       "      <td>12.75</td>\n",
       "      <td>64.982500</td>\n",
       "      <td>59.780000</td>\n",
       "      <td>3.195000</td>\n",
       "      <td>4.869630</td>\n",
       "      <td>6.017500</td>\n",
       "      <td>5.597500</td>\n",
       "      <td>0.237500</td>\n",
       "      <td>3.838333</td>\n",
       "      <td>1.750000</td>\n",
       "      <td>2.25</td>\n",
       "    </tr>\n",
       "    <tr>\n",
       "      <th>50%</th>\n",
       "      <td>24.50</td>\n",
       "      <td>66.725000</td>\n",
       "      <td>61.835000</td>\n",
       "      <td>5.110000</td>\n",
       "      <td>7.705269</td>\n",
       "      <td>6.055000</td>\n",
       "      <td>5.740000</td>\n",
       "      <td>0.355000</td>\n",
       "      <td>5.796667</td>\n",
       "      <td>2.500000</td>\n",
       "      <td>2.25</td>\n",
       "    </tr>\n",
       "    <tr>\n",
       "      <th>75%</th>\n",
       "      <td>36.25</td>\n",
       "      <td>67.900000</td>\n",
       "      <td>64.830000</td>\n",
       "      <td>7.382500</td>\n",
       "      <td>10.938801</td>\n",
       "      <td>6.125000</td>\n",
       "      <td>5.872500</td>\n",
       "      <td>0.477500</td>\n",
       "      <td>7.930921</td>\n",
       "      <td>3.250000</td>\n",
       "      <td>2.25</td>\n",
       "    </tr>\n",
       "    <tr>\n",
       "      <th>max</th>\n",
       "      <td>48.00</td>\n",
       "      <td>75.000000</td>\n",
       "      <td>72.920000</td>\n",
       "      <td>9.720000</td>\n",
       "      <td>14.997686</td>\n",
       "      <td>6.250000</td>\n",
       "      <td>6.010000</td>\n",
       "      <td>0.820000</td>\n",
       "      <td>13.225806</td>\n",
       "      <td>4.000000</td>\n",
       "      <td>2.25</td>\n",
       "    </tr>\n",
       "  </tbody>\n",
       "</table>\n",
       "</div>"
      ],
      "text/plain": [
       "       Sample#  Weight before[g]  Weight After[g]  Weight Loss[g]  \\\n",
       "count    48.00         48.000000        48.000000       48.000000   \n",
       "mean     24.50         67.548333        62.205625        5.342708   \n",
       "std      14.00          3.530610         4.123623        2.603403   \n",
       "min       1.00         63.350000        55.090000        1.430000   \n",
       "25%      12.75         64.982500        59.780000        3.195000   \n",
       "50%      24.50         66.725000        61.835000        5.110000   \n",
       "75%      36.25         67.900000        64.830000        7.382500   \n",
       "max      48.00         75.000000        72.920000        9.720000   \n",
       "\n",
       "       %Weight Loss  Thickness Before [mm]  Thickness After[mm]   \\\n",
       "count     48.000000              48.000000             48.000000   \n",
       "mean       7.906681               6.078333              5.715417   \n",
       "std        3.821401               0.081249              0.168371   \n",
       "min        2.153939               5.990000              5.380000   \n",
       "25%        4.869630               6.017500              5.597500   \n",
       "50%        7.705269               6.055000              5.740000   \n",
       "75%       10.938801               6.125000              5.872500   \n",
       "max       14.997686               6.250000              6.010000   \n",
       "\n",
       "       Thickness Loss[mm]  % Thickness Loss  Time(hrs)  Surface Area[L*W]  \n",
       "count           48.000000         48.000000  48.000000              48.00  \n",
       "mean             0.362917          5.960562   2.500000               2.25  \n",
       "std              0.173940          2.825970   1.129865               0.00  \n",
       "min              0.110000          1.833333   1.000000               2.25  \n",
       "25%              0.237500          3.838333   1.750000               2.25  \n",
       "50%              0.355000          5.796667   2.500000               2.25  \n",
       "75%              0.477500          7.930921   3.250000               2.25  \n",
       "max              0.820000         13.225806   4.000000               2.25  "
      ]
     },
     "execution_count": 6,
     "metadata": {},
     "output_type": "execute_result"
    }
   ],
   "source": [
    "df.describe()"
   ]
  },
  {
   "cell_type": "markdown",
   "id": "51aa5b12",
   "metadata": {},
   "source": [
    "# WEEK 10"
   ]
  },
  {
   "cell_type": "markdown",
   "id": "1a61e601",
   "metadata": {},
   "source": [
    "# Exploratory Data Analysis (EDA)"
   ]
  },
  {
   "cell_type": "code",
   "execution_count": 7,
   "id": "5f7cfe55",
   "metadata": {},
   "outputs": [
    {
     "data": {
      "image/png": "[encoded data removed]",
      "text/plain": [
       "<Figure size 1152x1080 with 12 Axes>"
      ]
     },
     "metadata": {
      "needs_background": "light"
     },
     "output_type": "display_data"
    }
   ],
   "source": [
    "df.hist(figsize=(16, 15), xlabelsize=8, ylabelsize=8, color = \"blue\")\n",
    "plt.show()"
   ]
  },
  {
   "cell_type": "code",
   "execution_count": 8,
   "id": "2c56ce2d",
   "metadata": {},
   "outputs": [
    {
     "data": {
      "image/png": "[encoded data removed]",
      "text/plain": [
       "<Figure size 900x180 with 5 Axes>"
      ]
     },
     "metadata": {
      "needs_background": "light"
     },
     "output_type": "display_data"
    },
    {
     "data": {
      "image/png": "[encoded data removed]",
      "text/plain": [
       "<Figure size 900x180 with 5 Axes>"
      ]
     },
     "metadata": {
      "needs_background": "light"
     },
     "output_type": "display_data"
    },
    {
     "data": {
      "image/png": "[encoded data removed]",
      "text/plain": [
       "<Figure size 360x180 with 3 Axes>"
      ]
     },
     "metadata": {
      "needs_background": "light"
     },
     "output_type": "display_data"
    }
   ],
   "source": [
    "for i in range(0, len(df.columns), 5):\n",
    "    sns.pairplot(data=df,\n",
    "                x_vars=df.columns[i:i+5],\n",
    "                y_vars=['Time(hrs)'])"
   ]
  },
  {
   "cell_type": "code",
   "execution_count": 9,
   "id": "bdf1081d",
   "metadata": {},
   "outputs": [
    {
     "data": {
      "text/html": [
       "<div>\n",
       "<style scoped>\n",
       "    .dataframe tbody tr th:only-of-type {\n",
       "        vertical-align: middle;\n",
       "    }\n",
       "\n",
       "    .dataframe tbody tr th {\n",
       "        vertical-align: top;\n",
       "    }\n",
       "\n",
       "    .dataframe thead th {\n",
       "        text-align: right;\n",
       "    }\n",
       "</style>\n",
       "<table border=\"1\" class=\"dataframe\">\n",
       "  <thead>\n",
       "    <tr style=\"text-align: right;\">\n",
       "      <th></th>\n",
       "      <th>Weight Loss[g]</th>\n",
       "      <th>%Weight Loss</th>\n",
       "      <th>Thickness After[mm]</th>\n",
       "      <th>Thickness Loss[mm]</th>\n",
       "      <th>% Thickness Loss</th>\n",
       "      <th>Time(hrs)</th>\n",
       "    </tr>\n",
       "  </thead>\n",
       "  <tbody>\n",
       "    <tr>\n",
       "      <th>0</th>\n",
       "      <td>2.08</td>\n",
       "      <td>2.773333</td>\n",
       "      <td>5.99</td>\n",
       "      <td>0.21</td>\n",
       "      <td>3.387097</td>\n",
       "      <td>1</td>\n",
       "    </tr>\n",
       "    <tr>\n",
       "      <th>1</th>\n",
       "      <td>2.23</td>\n",
       "      <td>2.998521</td>\n",
       "      <td>6.01</td>\n",
       "      <td>0.24</td>\n",
       "      <td>3.840000</td>\n",
       "      <td>1</td>\n",
       "    </tr>\n",
       "    <tr>\n",
       "      <th>2</th>\n",
       "      <td>2.14</td>\n",
       "      <td>3.208396</td>\n",
       "      <td>5.97</td>\n",
       "      <td>0.15</td>\n",
       "      <td>2.450980</td>\n",
       "      <td>1</td>\n",
       "    </tr>\n",
       "    <tr>\n",
       "      <th>3</th>\n",
       "      <td>2.85</td>\n",
       "      <td>4.210993</td>\n",
       "      <td>5.94</td>\n",
       "      <td>0.14</td>\n",
       "      <td>2.302632</td>\n",
       "      <td>1</td>\n",
       "    </tr>\n",
       "    <tr>\n",
       "      <th>4</th>\n",
       "      <td>2.16</td>\n",
       "      <td>3.348318</td>\n",
       "      <td>5.93</td>\n",
       "      <td>0.21</td>\n",
       "      <td>3.420195</td>\n",
       "      <td>1</td>\n",
       "    </tr>\n",
       "    <tr>\n",
       "      <th>5</th>\n",
       "      <td>2.12</td>\n",
       "      <td>3.092182</td>\n",
       "      <td>5.86</td>\n",
       "      <td>0.13</td>\n",
       "      <td>2.170284</td>\n",
       "      <td>1</td>\n",
       "    </tr>\n",
       "    <tr>\n",
       "      <th>6</th>\n",
       "      <td>2.41</td>\n",
       "      <td>3.718562</td>\n",
       "      <td>5.89</td>\n",
       "      <td>0.13</td>\n",
       "      <td>2.159468</td>\n",
       "      <td>1</td>\n",
       "    </tr>\n",
       "    <tr>\n",
       "      <th>7</th>\n",
       "      <td>1.83</td>\n",
       "      <td>2.888713</td>\n",
       "      <td>5.89</td>\n",
       "      <td>0.11</td>\n",
       "      <td>1.833333</td>\n",
       "      <td>1</td>\n",
       "    </tr>\n",
       "    <tr>\n",
       "      <th>8</th>\n",
       "      <td>1.84</td>\n",
       "      <td>2.756554</td>\n",
       "      <td>5.94</td>\n",
       "      <td>0.14</td>\n",
       "      <td>2.302632</td>\n",
       "      <td>1</td>\n",
       "    </tr>\n",
       "    <tr>\n",
       "      <th>9</th>\n",
       "      <td>1.69</td>\n",
       "      <td>2.506675</td>\n",
       "      <td>5.90</td>\n",
       "      <td>0.13</td>\n",
       "      <td>2.155887</td>\n",
       "      <td>1</td>\n",
       "    </tr>\n",
       "    <tr>\n",
       "      <th>10</th>\n",
       "      <td>1.43</td>\n",
       "      <td>2.153939</td>\n",
       "      <td>5.88</td>\n",
       "      <td>0.14</td>\n",
       "      <td>2.325581</td>\n",
       "      <td>1</td>\n",
       "    </tr>\n",
       "    <tr>\n",
       "      <th>11</th>\n",
       "      <td>1.45</td>\n",
       "      <td>2.229397</td>\n",
       "      <td>5.87</td>\n",
       "      <td>0.14</td>\n",
       "      <td>2.329451</td>\n",
       "      <td>1</td>\n",
       "    </tr>\n",
       "    <tr>\n",
       "      <th>12</th>\n",
       "      <td>4.19</td>\n",
       "      <td>5.586667</td>\n",
       "      <td>5.88</td>\n",
       "      <td>0.32</td>\n",
       "      <td>5.161290</td>\n",
       "      <td>2</td>\n",
       "    </tr>\n",
       "    <tr>\n",
       "      <th>13</th>\n",
       "      <td>4.72</td>\n",
       "      <td>6.346645</td>\n",
       "      <td>5.89</td>\n",
       "      <td>0.36</td>\n",
       "      <td>5.760000</td>\n",
       "      <td>2</td>\n",
       "    </tr>\n",
       "    <tr>\n",
       "      <th>14</th>\n",
       "      <td>4.76</td>\n",
       "      <td>7.136432</td>\n",
       "      <td>5.82</td>\n",
       "      <td>0.30</td>\n",
       "      <td>4.901961</td>\n",
       "      <td>2</td>\n",
       "    </tr>\n",
       "    <tr>\n",
       "      <th>15</th>\n",
       "      <td>5.05</td>\n",
       "      <td>7.461584</td>\n",
       "      <td>5.78</td>\n",
       "      <td>0.30</td>\n",
       "      <td>4.934211</td>\n",
       "      <td>2</td>\n",
       "    </tr>\n",
       "    <tr>\n",
       "      <th>16</th>\n",
       "      <td>4.36</td>\n",
       "      <td>6.758642</td>\n",
       "      <td>5.80</td>\n",
       "      <td>0.34</td>\n",
       "      <td>5.537459</td>\n",
       "      <td>2</td>\n",
       "    </tr>\n",
       "    <tr>\n",
       "      <th>17</th>\n",
       "      <td>4.25</td>\n",
       "      <td>6.198950</td>\n",
       "      <td>5.74</td>\n",
       "      <td>0.25</td>\n",
       "      <td>4.173623</td>\n",
       "      <td>2</td>\n",
       "    </tr>\n",
       "    <tr>\n",
       "      <th>18</th>\n",
       "      <td>4.13</td>\n",
       "      <td>6.372473</td>\n",
       "      <td>5.75</td>\n",
       "      <td>0.27</td>\n",
       "      <td>4.485050</td>\n",
       "      <td>2</td>\n",
       "    </tr>\n",
       "    <tr>\n",
       "      <th>19</th>\n",
       "      <td>3.60</td>\n",
       "      <td>5.682715</td>\n",
       "      <td>5.77</td>\n",
       "      <td>0.23</td>\n",
       "      <td>3.833333</td>\n",
       "      <td>2</td>\n",
       "    </tr>\n",
       "    <tr>\n",
       "      <th>20</th>\n",
       "      <td>4.18</td>\n",
       "      <td>6.262172</td>\n",
       "      <td>5.79</td>\n",
       "      <td>0.29</td>\n",
       "      <td>4.769737</td>\n",
       "      <td>2</td>\n",
       "    </tr>\n",
       "    <tr>\n",
       "      <th>21</th>\n",
       "      <td>4.25</td>\n",
       "      <td>6.303767</td>\n",
       "      <td>5.76</td>\n",
       "      <td>0.27</td>\n",
       "      <td>4.477612</td>\n",
       "      <td>2</td>\n",
       "    </tr>\n",
       "    <tr>\n",
       "      <th>22</th>\n",
       "      <td>3.42</td>\n",
       "      <td>5.151378</td>\n",
       "      <td>5.75</td>\n",
       "      <td>0.27</td>\n",
       "      <td>4.485050</td>\n",
       "      <td>2</td>\n",
       "    </tr>\n",
       "    <tr>\n",
       "      <th>23</th>\n",
       "      <td>3.31</td>\n",
       "      <td>5.089176</td>\n",
       "      <td>5.74</td>\n",
       "      <td>0.27</td>\n",
       "      <td>4.492512</td>\n",
       "      <td>2</td>\n",
       "    </tr>\n",
       "    <tr>\n",
       "      <th>24</th>\n",
       "      <td>8.22</td>\n",
       "      <td>10.960000</td>\n",
       "      <td>5.68</td>\n",
       "      <td>0.52</td>\n",
       "      <td>8.387097</td>\n",
       "      <td>3</td>\n",
       "    </tr>\n",
       "    <tr>\n",
       "      <th>25</th>\n",
       "      <td>7.25</td>\n",
       "      <td>9.748555</td>\n",
       "      <td>5.71</td>\n",
       "      <td>0.54</td>\n",
       "      <td>8.640000</td>\n",
       "      <td>3</td>\n",
       "    </tr>\n",
       "    <tr>\n",
       "      <th>26</th>\n",
       "      <td>6.91</td>\n",
       "      <td>10.359820</td>\n",
       "      <td>5.74</td>\n",
       "      <td>0.38</td>\n",
       "      <td>6.209150</td>\n",
       "      <td>3</td>\n",
       "    </tr>\n",
       "    <tr>\n",
       "      <th>27</th>\n",
       "      <td>7.34</td>\n",
       "      <td>10.845154</td>\n",
       "      <td>5.61</td>\n",
       "      <td>0.47</td>\n",
       "      <td>7.730263</td>\n",
       "      <td>3</td>\n",
       "    </tr>\n",
       "    <tr>\n",
       "      <th>28</th>\n",
       "      <td>6.50</td>\n",
       "      <td>10.075957</td>\n",
       "      <td>5.71</td>\n",
       "      <td>0.43</td>\n",
       "      <td>7.003257</td>\n",
       "      <td>3</td>\n",
       "    </tr>\n",
       "    <tr>\n",
       "      <th>29</th>\n",
       "      <td>6.37</td>\n",
       "      <td>9.291132</td>\n",
       "      <td>5.62</td>\n",
       "      <td>0.37</td>\n",
       "      <td>6.176962</td>\n",
       "      <td>3</td>\n",
       "    </tr>\n",
       "    <tr>\n",
       "      <th>30</th>\n",
       "      <td>6.84</td>\n",
       "      <td>10.553927</td>\n",
       "      <td>5.59</td>\n",
       "      <td>0.43</td>\n",
       "      <td>7.142857</td>\n",
       "      <td>3</td>\n",
       "    </tr>\n",
       "    <tr>\n",
       "      <th>31</th>\n",
       "      <td>5.91</td>\n",
       "      <td>9.329124</td>\n",
       "      <td>5.65</td>\n",
       "      <td>0.35</td>\n",
       "      <td>5.833333</td>\n",
       "      <td>3</td>\n",
       "    </tr>\n",
       "    <tr>\n",
       "      <th>32</th>\n",
       "      <td>6.40</td>\n",
       "      <td>9.588015</td>\n",
       "      <td>5.67</td>\n",
       "      <td>0.41</td>\n",
       "      <td>6.743421</td>\n",
       "      <td>3</td>\n",
       "    </tr>\n",
       "    <tr>\n",
       "      <th>33</th>\n",
       "      <td>5.92</td>\n",
       "      <td>8.780777</td>\n",
       "      <td>5.63</td>\n",
       "      <td>0.40</td>\n",
       "      <td>6.633499</td>\n",
       "      <td>3</td>\n",
       "    </tr>\n",
       "    <tr>\n",
       "      <th>34</th>\n",
       "      <td>5.31</td>\n",
       "      <td>7.998192</td>\n",
       "      <td>5.61</td>\n",
       "      <td>0.41</td>\n",
       "      <td>6.810631</td>\n",
       "      <td>3</td>\n",
       "    </tr>\n",
       "    <tr>\n",
       "      <th>35</th>\n",
       "      <td>5.17</td>\n",
       "      <td>7.948954</td>\n",
       "      <td>5.60</td>\n",
       "      <td>0.41</td>\n",
       "      <td>6.821963</td>\n",
       "      <td>3</td>\n",
       "    </tr>\n",
       "    <tr>\n",
       "      <th>36</th>\n",
       "      <td>9.45</td>\n",
       "      <td>12.600000</td>\n",
       "      <td>5.38</td>\n",
       "      <td>0.82</td>\n",
       "      <td>13.225806</td>\n",
       "      <td>4</td>\n",
       "    </tr>\n",
       "    <tr>\n",
       "      <th>37</th>\n",
       "      <td>9.54</td>\n",
       "      <td>12.827753</td>\n",
       "      <td>5.45</td>\n",
       "      <td>0.80</td>\n",
       "      <td>12.800000</td>\n",
       "      <td>4</td>\n",
       "    </tr>\n",
       "    <tr>\n",
       "      <th>38</th>\n",
       "      <td>9.22</td>\n",
       "      <td>13.823088</td>\n",
       "      <td>5.54</td>\n",
       "      <td>0.58</td>\n",
       "      <td>9.477124</td>\n",
       "      <td>4</td>\n",
       "    </tr>\n",
       "    <tr>\n",
       "      <th>39</th>\n",
       "      <td>9.53</td>\n",
       "      <td>14.080969</td>\n",
       "      <td>5.44</td>\n",
       "      <td>0.64</td>\n",
       "      <td>10.526316</td>\n",
       "      <td>4</td>\n",
       "    </tr>\n",
       "    <tr>\n",
       "      <th>40</th>\n",
       "      <td>8.88</td>\n",
       "      <td>13.765308</td>\n",
       "      <td>5.63</td>\n",
       "      <td>0.51</td>\n",
       "      <td>8.306189</td>\n",
       "      <td>4</td>\n",
       "    </tr>\n",
       "    <tr>\n",
       "      <th>41</th>\n",
       "      <td>8.76</td>\n",
       "      <td>12.777130</td>\n",
       "      <td>5.53</td>\n",
       "      <td>0.46</td>\n",
       "      <td>7.679466</td>\n",
       "      <td>4</td>\n",
       "    </tr>\n",
       "    <tr>\n",
       "      <th>42</th>\n",
       "      <td>9.72</td>\n",
       "      <td>14.997686</td>\n",
       "      <td>5.41</td>\n",
       "      <td>0.61</td>\n",
       "      <td>10.132890</td>\n",
       "      <td>4</td>\n",
       "    </tr>\n",
       "    <tr>\n",
       "      <th>43</th>\n",
       "      <td>7.86</td>\n",
       "      <td>12.407261</td>\n",
       "      <td>5.53</td>\n",
       "      <td>0.47</td>\n",
       "      <td>7.833333</td>\n",
       "      <td>4</td>\n",
       "    </tr>\n",
       "    <tr>\n",
       "      <th>44</th>\n",
       "      <td>8.24</td>\n",
       "      <td>12.344569</td>\n",
       "      <td>5.58</td>\n",
       "      <td>0.50</td>\n",
       "      <td>8.223684</td>\n",
       "      <td>4</td>\n",
       "    </tr>\n",
       "    <tr>\n",
       "      <th>45</th>\n",
       "      <td>7.51</td>\n",
       "      <td>11.139128</td>\n",
       "      <td>5.52</td>\n",
       "      <td>0.51</td>\n",
       "      <td>8.457711</td>\n",
       "      <td>4</td>\n",
       "    </tr>\n",
       "    <tr>\n",
       "      <th>46</th>\n",
       "      <td>8.04</td>\n",
       "      <td>12.110258</td>\n",
       "      <td>5.49</td>\n",
       "      <td>0.53</td>\n",
       "      <td>8.803987</td>\n",
       "      <td>4</td>\n",
       "    </tr>\n",
       "    <tr>\n",
       "      <th>47</th>\n",
       "      <td>7.11</td>\n",
       "      <td>10.931734</td>\n",
       "      <td>5.48</td>\n",
       "      <td>0.53</td>\n",
       "      <td>8.818636</td>\n",
       "      <td>4</td>\n",
       "    </tr>\n",
       "  </tbody>\n",
       "</table>\n",
       "</div>"
      ],
      "text/plain": [
       "    Weight Loss[g]  %Weight Loss  Thickness After[mm]   Thickness Loss[mm]  \\\n",
       "0             2.08      2.773333                  5.99                0.21   \n",
       "1             2.23      2.998521                  6.01                0.24   \n",
       "2             2.14      3.208396                  5.97                0.15   \n",
       "3             2.85      4.210993                  5.94                0.14   \n",
       "4             2.16      3.348318                  5.93                0.21   \n",
       "5             2.12      3.092182                  5.86                0.13   \n",
       "6             2.41      3.718562                  5.89                0.13   \n",
       "7             1.83      2.888713                  5.89                0.11   \n",
       "8             1.84      2.756554                  5.94                0.14   \n",
       "9             1.69      2.506675                  5.90                0.13   \n",
       "10            1.43      2.153939                  5.88                0.14   \n",
       "11            1.45      2.229397                  5.87                0.14   \n",
       "12            4.19      5.586667                  5.88                0.32   \n",
       "13            4.72      6.346645                  5.89                0.36   \n",
       "14            4.76      7.136432                  5.82                0.30   \n",
       "15            5.05      7.461584                  5.78                0.30   \n",
       "16            4.36      6.758642                  5.80                0.34   \n",
       "17            4.25      6.198950                  5.74                0.25   \n",
       "18            4.13      6.372473                  5.75                0.27   \n",
       "19            3.60      5.682715                  5.77                0.23   \n",
       "20            4.18      6.262172                  5.79                0.29   \n",
       "21            4.25      6.303767                  5.76                0.27   \n",
       "22            3.42      5.151378                  5.75                0.27   \n",
       "23            3.31      5.089176                  5.74                0.27   \n",
       "24            8.22     10.960000                  5.68                0.52   \n",
       "25            7.25      9.748555                  5.71                0.54   \n",
       "26            6.91     10.359820                  5.74                0.38   \n",
       "27            7.34     10.845154                  5.61                0.47   \n",
       "28            6.50     10.075957                  5.71                0.43   \n",
       "29            6.37      9.291132                  5.62                0.37   \n",
       "30            6.84     10.553927                  5.59                0.43   \n",
       "31            5.91      9.329124                  5.65                0.35   \n",
       "32            6.40      9.588015                  5.67                0.41   \n",
       "33            5.92      8.780777                  5.63                0.40   \n",
       "34            5.31      7.998192                  5.61                0.41   \n",
       "35            5.17      7.948954                  5.60                0.41   \n",
       "36            9.45     12.600000                  5.38                0.82   \n",
       "37            9.54     12.827753                  5.45                0.80   \n",
       "38            9.22     13.823088                  5.54                0.58   \n",
       "39            9.53     14.080969                  5.44                0.64   \n",
       "40            8.88     13.765308                  5.63                0.51   \n",
       "41            8.76     12.777130                  5.53                0.46   \n",
       "42            9.72     14.997686                  5.41                0.61   \n",
       "43            7.86     12.407261                  5.53                0.47   \n",
       "44            8.24     12.344569                  5.58                0.50   \n",
       "45            7.51     11.139128                  5.52                0.51   \n",
       "46            8.04     12.110258                  5.49                0.53   \n",
       "47            7.11     10.931734                  5.48                0.53   \n",
       "\n",
       "    % Thickness Loss  Time(hrs)  \n",
       "0           3.387097          1  \n",
       "1           3.840000          1  \n",
       "2           2.450980          1  \n",
       "3           2.302632          1  \n",
       "4           3.420195          1  \n",
       "5           2.170284          1  \n",
       "6           2.159468          1  \n",
       "7           1.833333          1  \n",
       "8           2.302632          1  \n",
       "9           2.155887          1  \n",
       "10          2.325581          1  \n",
       "11          2.329451          1  \n",
       "12          5.161290          2  \n",
       "13          5.760000          2  \n",
       "14          4.901961          2  \n",
       "15          4.934211          2  \n",
       "16          5.537459          2  \n",
       "17          4.173623          2  \n",
       "18          4.485050          2  \n",
       "19          3.833333          2  \n",
       "20          4.769737          2  \n",
       "21          4.477612          2  \n",
       "22          4.485050          2  \n",
       "23          4.492512          2  \n",
       "24          8.387097          3  \n",
       "25          8.640000          3  \n",
       "26          6.209150          3  \n",
       "27          7.730263          3  \n",
       "28          7.003257          3  \n",
       "29          6.176962          3  \n",
       "30          7.142857          3  \n",
       "31          5.833333          3  \n",
       "32          6.743421          3  \n",
       "33          6.633499          3  \n",
       "34          6.810631          3  \n",
       "35          6.821963          3  \n",
       "36         13.225806          4  \n",
       "37         12.800000          4  \n",
       "38          9.477124          4  \n",
       "39         10.526316          4  \n",
       "40          8.306189          4  \n",
       "41          7.679466          4  \n",
       "42         10.132890          4  \n",
       "43          7.833333          4  \n",
       "44          8.223684          4  \n",
       "45          8.457711          4  \n",
       "46          8.803987          4  \n",
       "47          8.818636          4  "
      ]
     },
     "execution_count": 9,
     "metadata": {},
     "output_type": "execute_result"
    }
   ],
   "source": [
    "df.drop(['Weight before[g]','Weight After[g]','Thickness Before [mm]','Sample#','Surface Area[L*W]','Target'],axis=1)"
   ]
  },
  {
   "cell_type": "code",
   "execution_count": 10,
   "id": "d50a06ab",
   "metadata": {},
   "outputs": [
    {
     "data": {
      "text/html": [
       "<div>\n",
       "<style scoped>\n",
       "    .dataframe tbody tr th:only-of-type {\n",
       "        vertical-align: middle;\n",
       "    }\n",
       "\n",
       "    .dataframe tbody tr th {\n",
       "        vertical-align: top;\n",
       "    }\n",
       "\n",
       "    .dataframe thead th {\n",
       "        text-align: right;\n",
       "    }\n",
       "</style>\n",
       "<table border=\"1\" class=\"dataframe\">\n",
       "  <thead>\n",
       "    <tr style=\"text-align: right;\">\n",
       "      <th></th>\n",
       "      <th>Sample#</th>\n",
       "      <th>Target</th>\n",
       "      <th>Weight before[g]</th>\n",
       "      <th>Weight After[g]</th>\n",
       "      <th>Weight Loss[g]</th>\n",
       "      <th>%Weight Loss</th>\n",
       "      <th>Thickness Before [mm]</th>\n",
       "      <th>Thickness After[mm]</th>\n",
       "      <th>Thickness Loss[mm]</th>\n",
       "      <th>% Thickness Loss</th>\n",
       "      <th>Time(hrs)</th>\n",
       "      <th>Surface Area[L*W]</th>\n",
       "    </tr>\n",
       "  </thead>\n",
       "  <tbody>\n",
       "    <tr>\n",
       "      <th>0</th>\n",
       "      <td>1</td>\n",
       "      <td>A</td>\n",
       "      <td>75.00</td>\n",
       "      <td>72.92</td>\n",
       "      <td>2.08</td>\n",
       "      <td>2.773333</td>\n",
       "      <td>6.20</td>\n",
       "      <td>5.99</td>\n",
       "      <td>0.21</td>\n",
       "      <td>3.387097</td>\n",
       "      <td>1</td>\n",
       "      <td>2.25</td>\n",
       "    </tr>\n",
       "    <tr>\n",
       "      <th>1</th>\n",
       "      <td>2</td>\n",
       "      <td>A</td>\n",
       "      <td>74.37</td>\n",
       "      <td>72.14</td>\n",
       "      <td>2.23</td>\n",
       "      <td>2.998521</td>\n",
       "      <td>6.25</td>\n",
       "      <td>6.01</td>\n",
       "      <td>0.24</td>\n",
       "      <td>3.840000</td>\n",
       "      <td>1</td>\n",
       "      <td>2.25</td>\n",
       "    </tr>\n",
       "    <tr>\n",
       "      <th>2</th>\n",
       "      <td>3</td>\n",
       "      <td>A</td>\n",
       "      <td>66.70</td>\n",
       "      <td>64.56</td>\n",
       "      <td>2.14</td>\n",
       "      <td>3.208396</td>\n",
       "      <td>6.12</td>\n",
       "      <td>5.97</td>\n",
       "      <td>0.15</td>\n",
       "      <td>2.450980</td>\n",
       "      <td>1</td>\n",
       "      <td>2.25</td>\n",
       "    </tr>\n",
       "    <tr>\n",
       "      <th>3</th>\n",
       "      <td>4</td>\n",
       "      <td>A</td>\n",
       "      <td>67.68</td>\n",
       "      <td>64.83</td>\n",
       "      <td>2.85</td>\n",
       "      <td>4.210993</td>\n",
       "      <td>6.08</td>\n",
       "      <td>5.94</td>\n",
       "      <td>0.14</td>\n",
       "      <td>2.302632</td>\n",
       "      <td>1</td>\n",
       "      <td>2.25</td>\n",
       "    </tr>\n",
       "    <tr>\n",
       "      <th>4</th>\n",
       "      <td>5</td>\n",
       "      <td>A</td>\n",
       "      <td>64.51</td>\n",
       "      <td>62.35</td>\n",
       "      <td>2.16</td>\n",
       "      <td>3.348318</td>\n",
       "      <td>6.14</td>\n",
       "      <td>5.93</td>\n",
       "      <td>0.21</td>\n",
       "      <td>3.420195</td>\n",
       "      <td>1</td>\n",
       "      <td>2.25</td>\n",
       "    </tr>\n",
       "  </tbody>\n",
       "</table>\n",
       "</div>"
      ],
      "text/plain": [
       "   Sample# Target  Weight before[g]  Weight After[g]  Weight Loss[g]  \\\n",
       "0        1      A             75.00            72.92            2.08   \n",
       "1        2      A             74.37            72.14            2.23   \n",
       "2        3      A             66.70            64.56            2.14   \n",
       "3        4      A             67.68            64.83            2.85   \n",
       "4        5      A             64.51            62.35            2.16   \n",
       "\n",
       "   %Weight Loss  Thickness Before [mm]  Thickness After[mm]   \\\n",
       "0      2.773333                   6.20                  5.99   \n",
       "1      2.998521                   6.25                  6.01   \n",
       "2      3.208396                   6.12                  5.97   \n",
       "3      4.210993                   6.08                  5.94   \n",
       "4      3.348318                   6.14                  5.93   \n",
       "\n",
       "   Thickness Loss[mm]  % Thickness Loss  Time(hrs)  Surface Area[L*W]  \n",
       "0                0.21          3.387097          1               2.25  \n",
       "1                0.24          3.840000          1               2.25  \n",
       "2                0.15          2.450980          1               2.25  \n",
       "3                0.14          2.302632          1               2.25  \n",
       "4                0.21          3.420195          1               2.25  "
      ]
     },
     "execution_count": 10,
     "metadata": {},
     "output_type": "execute_result"
    }
   ],
   "source": [
    "df.head()"
   ]
  },
  {
   "cell_type": "code",
   "execution_count": 11,
   "id": "72eb6627",
   "metadata": {},
   "outputs": [
    {
     "data": {
      "text/html": [
       "<div>\n",
       "<style scoped>\n",
       "    .dataframe tbody tr th:only-of-type {\n",
       "        vertical-align: middle;\n",
       "    }\n",
       "\n",
       "    .dataframe tbody tr th {\n",
       "        vertical-align: top;\n",
       "    }\n",
       "\n",
       "    .dataframe thead th {\n",
       "        text-align: right;\n",
       "    }\n",
       "</style>\n",
       "<table border=\"1\" class=\"dataframe\">\n",
       "  <thead>\n",
       "    <tr style=\"text-align: right;\">\n",
       "      <th></th>\n",
       "      <th>Sample#</th>\n",
       "      <th>Weight before[g]</th>\n",
       "      <th>Weight After[g]</th>\n",
       "      <th>Weight Loss[g]</th>\n",
       "      <th>%Weight Loss</th>\n",
       "      <th>Thickness Before [mm]</th>\n",
       "      <th>Thickness After[mm]</th>\n",
       "      <th>Thickness Loss[mm]</th>\n",
       "      <th>% Thickness Loss</th>\n",
       "      <th>Time(hrs)</th>\n",
       "      <th>Surface Area[L*W]</th>\n",
       "    </tr>\n",
       "  </thead>\n",
       "  <tbody>\n",
       "    <tr>\n",
       "      <th>Sample#</th>\n",
       "      <td>1.000000</td>\n",
       "      <td>-1.620392e-01</td>\n",
       "      <td>-0.695852</td>\n",
       "      <td>0.882434</td>\n",
       "      <td>0.906685</td>\n",
       "      <td>-1.937828e-01</td>\n",
       "      <td>-0.948749</td>\n",
       "      <td>0.827854</td>\n",
       "      <td>0.843122</td>\n",
       "      <td>9.684560e-01</td>\n",
       "      <td>NaN</td>\n",
       "    </tr>\n",
       "    <tr>\n",
       "      <th>Weight before[g]</th>\n",
       "      <td>-0.162039</td>\n",
       "      <td>1.000000e+00</td>\n",
       "      <td>0.779309</td>\n",
       "      <td>0.121777</td>\n",
       "      <td>0.014210</td>\n",
       "      <td>7.411952e-01</td>\n",
       "      <td>0.075902</td>\n",
       "      <td>0.272748</td>\n",
       "      <td>0.250867</td>\n",
       "      <td>2.112812e-15</td>\n",
       "      <td>NaN</td>\n",
       "    </tr>\n",
       "    <tr>\n",
       "      <th>Weight After[g]</th>\n",
       "      <td>-0.695852</td>\n",
       "      <td>7.793087e-01</td>\n",
       "      <td>1.000000</td>\n",
       "      <td>-0.527074</td>\n",
       "      <td>-0.614643</td>\n",
       "      <td>5.418300e-01</td>\n",
       "      <td>0.636137</td>\n",
       "      <td>-0.362676</td>\n",
       "      <td>-0.384706</td>\n",
       "      <td>-6.092123e-01</td>\n",
       "      <td>NaN</td>\n",
       "    </tr>\n",
       "    <tr>\n",
       "      <th>Weight Loss[g]</th>\n",
       "      <td>0.882434</td>\n",
       "      <td>1.217770e-01</td>\n",
       "      <td>-0.527074</td>\n",
       "      <td>1.000000</td>\n",
       "      <td>0.992826</td>\n",
       "      <td>1.469493e-01</td>\n",
       "      <td>-0.904666</td>\n",
       "      <td>0.944342</td>\n",
       "      <td>0.949563</td>\n",
       "      <td>9.649528e-01</td>\n",
       "      <td>NaN</td>\n",
       "    </tr>\n",
       "    <tr>\n",
       "      <th>%Weight Loss</th>\n",
       "      <td>0.906685</td>\n",
       "      <td>1.421003e-02</td>\n",
       "      <td>-0.614643</td>\n",
       "      <td>0.992826</td>\n",
       "      <td>1.000000</td>\n",
       "      <td>6.899058e-02</td>\n",
       "      <td>-0.912462</td>\n",
       "      <td>0.915473</td>\n",
       "      <td>0.923592</td>\n",
       "      <td>9.729612e-01</td>\n",
       "      <td>NaN</td>\n",
       "    </tr>\n",
       "    <tr>\n",
       "      <th>Thickness Before [mm]</th>\n",
       "      <td>-0.193783</td>\n",
       "      <td>7.411952e-01</td>\n",
       "      <td>0.541830</td>\n",
       "      <td>0.146949</td>\n",
       "      <td>0.068991</td>\n",
       "      <td>1.000000e+00</td>\n",
       "      <td>0.171602</td>\n",
       "      <td>0.301002</td>\n",
       "      <td>0.273042</td>\n",
       "      <td>5.381124e-15</td>\n",
       "      <td>NaN</td>\n",
       "    </tr>\n",
       "    <tr>\n",
       "      <th>Thickness After[mm]</th>\n",
       "      <td>-0.948749</td>\n",
       "      <td>7.590161e-02</td>\n",
       "      <td>0.636137</td>\n",
       "      <td>-0.904666</td>\n",
       "      <td>-0.912462</td>\n",
       "      <td>1.716023e-01</td>\n",
       "      <td>1.000000</td>\n",
       "      <td>-0.887825</td>\n",
       "      <td>-0.900769</td>\n",
       "      <td>-9.461909e-01</td>\n",
       "      <td>NaN</td>\n",
       "    </tr>\n",
       "    <tr>\n",
       "      <th>Thickness Loss[mm]</th>\n",
       "      <td>0.827854</td>\n",
       "      <td>2.727481e-01</td>\n",
       "      <td>-0.362676</td>\n",
       "      <td>0.944342</td>\n",
       "      <td>0.915473</td>\n",
       "      <td>3.010018e-01</td>\n",
       "      <td>-0.887825</td>\n",
       "      <td>1.000000</td>\n",
       "      <td>0.999469</td>\n",
       "      <td>9.158961e-01</td>\n",
       "      <td>NaN</td>\n",
       "    </tr>\n",
       "    <tr>\n",
       "      <th>% Thickness Loss</th>\n",
       "      <td>0.843122</td>\n",
       "      <td>2.508666e-01</td>\n",
       "      <td>-0.384706</td>\n",
       "      <td>0.949563</td>\n",
       "      <td>0.923592</td>\n",
       "      <td>2.730424e-01</td>\n",
       "      <td>-0.900769</td>\n",
       "      <td>0.999469</td>\n",
       "      <td>1.000000</td>\n",
       "      <td>9.260496e-01</td>\n",
       "      <td>NaN</td>\n",
       "    </tr>\n",
       "    <tr>\n",
       "      <th>Time(hrs)</th>\n",
       "      <td>0.968456</td>\n",
       "      <td>2.112812e-15</td>\n",
       "      <td>-0.609212</td>\n",
       "      <td>0.964953</td>\n",
       "      <td>0.972961</td>\n",
       "      <td>5.381124e-15</td>\n",
       "      <td>-0.946191</td>\n",
       "      <td>0.915896</td>\n",
       "      <td>0.926050</td>\n",
       "      <td>1.000000e+00</td>\n",
       "      <td>NaN</td>\n",
       "    </tr>\n",
       "    <tr>\n",
       "      <th>Surface Area[L*W]</th>\n",
       "      <td>NaN</td>\n",
       "      <td>NaN</td>\n",
       "      <td>NaN</td>\n",
       "      <td>NaN</td>\n",
       "      <td>NaN</td>\n",
       "      <td>NaN</td>\n",
       "      <td>NaN</td>\n",
       "      <td>NaN</td>\n",
       "      <td>NaN</td>\n",
       "      <td>NaN</td>\n",
       "      <td>NaN</td>\n",
       "    </tr>\n",
       "  </tbody>\n",
       "</table>\n",
       "</div>"
      ],
      "text/plain": [
       "                        Sample#  Weight before[g]  Weight After[g]  \\\n",
       "Sample#                1.000000     -1.620392e-01        -0.695852   \n",
       "Weight before[g]      -0.162039      1.000000e+00         0.779309   \n",
       "Weight After[g]       -0.695852      7.793087e-01         1.000000   \n",
       "Weight Loss[g]         0.882434      1.217770e-01        -0.527074   \n",
       "%Weight Loss           0.906685      1.421003e-02        -0.614643   \n",
       "Thickness Before [mm] -0.193783      7.411952e-01         0.541830   \n",
       "Thickness After[mm]   -0.948749      7.590161e-02         0.636137   \n",
       "Thickness Loss[mm]     0.827854      2.727481e-01        -0.362676   \n",
       "% Thickness Loss       0.843122      2.508666e-01        -0.384706   \n",
       "Time(hrs)              0.968456      2.112812e-15        -0.609212   \n",
       "Surface Area[L*W]           NaN               NaN              NaN   \n",
       "\n",
       "                       Weight Loss[g]  %Weight Loss  Thickness Before [mm]  \\\n",
       "Sample#                      0.882434      0.906685          -1.937828e-01   \n",
       "Weight before[g]             0.121777      0.014210           7.411952e-01   \n",
       "Weight After[g]             -0.527074     -0.614643           5.418300e-01   \n",
       "Weight Loss[g]               1.000000      0.992826           1.469493e-01   \n",
       "%Weight Loss                 0.992826      1.000000           6.899058e-02   \n",
       "Thickness Before [mm]        0.146949      0.068991           1.000000e+00   \n",
       "Thickness After[mm]         -0.904666     -0.912462           1.716023e-01   \n",
       "Thickness Loss[mm]           0.944342      0.915473           3.010018e-01   \n",
       "% Thickness Loss             0.949563      0.923592           2.730424e-01   \n",
       "Time(hrs)                    0.964953      0.972961           5.381124e-15   \n",
       "Surface Area[L*W]                 NaN           NaN                    NaN   \n",
       "\n",
       "                       Thickness After[mm]   Thickness Loss[mm]  \\\n",
       "Sample#                           -0.948749            0.827854   \n",
       "Weight before[g]                   0.075902            0.272748   \n",
       "Weight After[g]                    0.636137           -0.362676   \n",
       "Weight Loss[g]                    -0.904666            0.944342   \n",
       "%Weight Loss                      -0.912462            0.915473   \n",
       "Thickness Before [mm]              0.171602            0.301002   \n",
       "Thickness After[mm]                1.000000           -0.887825   \n",
       "Thickness Loss[mm]                -0.887825            1.000000   \n",
       "% Thickness Loss                  -0.900769            0.999469   \n",
       "Time(hrs)                         -0.946191            0.915896   \n",
       "Surface Area[L*W]                       NaN                 NaN   \n",
       "\n",
       "                       % Thickness Loss     Time(hrs)  Surface Area[L*W]  \n",
       "Sample#                        0.843122  9.684560e-01                NaN  \n",
       "Weight before[g]               0.250867  2.112812e-15                NaN  \n",
       "Weight After[g]               -0.384706 -6.092123e-01                NaN  \n",
       "Weight Loss[g]                 0.949563  9.649528e-01                NaN  \n",
       "%Weight Loss                   0.923592  9.729612e-01                NaN  \n",
       "Thickness Before [mm]          0.273042  5.381124e-15                NaN  \n",
       "Thickness After[mm]           -0.900769 -9.461909e-01                NaN  \n",
       "Thickness Loss[mm]             0.999469  9.158961e-01                NaN  \n",
       "% Thickness Loss               1.000000  9.260496e-01                NaN  \n",
       "Time(hrs)                      0.926050  1.000000e+00                NaN  \n",
       "Surface Area[L*W]                   NaN           NaN                NaN  "
      ]
     },
     "execution_count": 11,
     "metadata": {},
     "output_type": "execute_result"
    }
   ],
   "source": [
    "correlation = df.corr()\n",
    "correlation"
   ]
  },
  {
   "cell_type": "code",
   "execution_count": null,
   "id": "286cace9",
   "metadata": {},
   "outputs": [],
   "source": [
    "# plt.figure(figsize=(12,7))\n",
    "\n",
    "sns.heatmap(correlation,annot=True,cmap='crest')"
   ]
  },
  {
   "cell_type": "markdown",
   "id": "f2265679",
   "metadata": {},
   "source": [
    "# WEEK 11"
   ]
  },
  {
   "cell_type": "markdown",
   "id": "00dab2cb",
   "metadata": {},
   "source": [
    "# Data Preprocessing"
   ]
  },
  {
   "cell_type": "code",
   "execution_count": 13,
   "id": "72619bfa",
   "metadata": {},
   "outputs": [],
   "source": [
    "xx = df[['Weight Loss[g]','%Weight Loss','Thickness Loss[mm]','% Thickness Loss']]"
   ]
  },
  {
   "cell_type": "code",
   "execution_count": 14,
   "id": "85a17623",
   "metadata": {},
   "outputs": [],
   "source": [
    "yy = df['Time(hrs)']"
   ]
  },
  {
   "cell_type": "code",
   "execution_count": 15,
   "id": "c1f00ccc",
   "metadata": {},
   "outputs": [
    {
     "data": {
      "text/html": [
       "<div>\n",
       "<style scoped>\n",
       "    .dataframe tbody tr th:only-of-type {\n",
       "        vertical-align: middle;\n",
       "    }\n",
       "\n",
       "    .dataframe tbody tr th {\n",
       "        vertical-align: top;\n",
       "    }\n",
       "\n",
       "    .dataframe thead th {\n",
       "        text-align: right;\n",
       "    }\n",
       "</style>\n",
       "<table border=\"1\" class=\"dataframe\">\n",
       "  <thead>\n",
       "    <tr style=\"text-align: right;\">\n",
       "      <th></th>\n",
       "      <th>Weight Loss[g]</th>\n",
       "      <th>%Weight Loss</th>\n",
       "      <th>Thickness Loss[mm]</th>\n",
       "      <th>% Thickness Loss</th>\n",
       "    </tr>\n",
       "  </thead>\n",
       "  <tbody>\n",
       "    <tr>\n",
       "      <th>0</th>\n",
       "      <td>2.08</td>\n",
       "      <td>2.773333</td>\n",
       "      <td>0.21</td>\n",
       "      <td>3.387097</td>\n",
       "    </tr>\n",
       "    <tr>\n",
       "      <th>1</th>\n",
       "      <td>2.23</td>\n",
       "      <td>2.998521</td>\n",
       "      <td>0.24</td>\n",
       "      <td>3.840000</td>\n",
       "    </tr>\n",
       "    <tr>\n",
       "      <th>2</th>\n",
       "      <td>2.14</td>\n",
       "      <td>3.208396</td>\n",
       "      <td>0.15</td>\n",
       "      <td>2.450980</td>\n",
       "    </tr>\n",
       "    <tr>\n",
       "      <th>3</th>\n",
       "      <td>2.85</td>\n",
       "      <td>4.210993</td>\n",
       "      <td>0.14</td>\n",
       "      <td>2.302632</td>\n",
       "    </tr>\n",
       "    <tr>\n",
       "      <th>4</th>\n",
       "      <td>2.16</td>\n",
       "      <td>3.348318</td>\n",
       "      <td>0.21</td>\n",
       "      <td>3.420195</td>\n",
       "    </tr>\n",
       "  </tbody>\n",
       "</table>\n",
       "</div>"
      ],
      "text/plain": [
       "   Weight Loss[g]  %Weight Loss  Thickness Loss[mm]  % Thickness Loss\n",
       "0            2.08      2.773333                0.21          3.387097\n",
       "1            2.23      2.998521                0.24          3.840000\n",
       "2            2.14      3.208396                0.15          2.450980\n",
       "3            2.85      4.210993                0.14          2.302632\n",
       "4            2.16      3.348318                0.21          3.420195"
      ]
     },
     "execution_count": 15,
     "metadata": {},
     "output_type": "execute_result"
    }
   ],
   "source": [
    "xx.head()"
   ]
  },
  {
   "cell_type": "code",
   "execution_count": 16,
   "id": "3b51e977",
   "metadata": {},
   "outputs": [
    {
     "data": {
      "text/plain": [
       "0    1\n",
       "1    1\n",
       "2    1\n",
       "3    1\n",
       "4    1\n",
       "Name: Time(hrs), dtype: int64"
      ]
     },
     "execution_count": 16,
     "metadata": {},
     "output_type": "execute_result"
    }
   ],
   "source": [
    "yy.head()"
   ]
  },
  {
   "cell_type": "code",
   "execution_count": 17,
   "id": "10fd9af8",
   "metadata": {},
   "outputs": [
    {
     "data": {
      "text/plain": [
       "(48, 4)"
      ]
     },
     "execution_count": 17,
     "metadata": {},
     "output_type": "execute_result"
    }
   ],
   "source": [
    "xx.shape"
   ]
  },
  {
   "cell_type": "code",
   "execution_count": 18,
   "id": "989f54db",
   "metadata": {},
   "outputs": [
    {
     "data": {
      "text/plain": [
       "(48,)"
      ]
     },
     "execution_count": 18,
     "metadata": {},
     "output_type": "execute_result"
    }
   ],
   "source": [
    "yy.shape"
   ]
  },
  {
   "cell_type": "code",
   "execution_count": 19,
   "id": "66728e04",
   "metadata": {},
   "outputs": [
    {
     "name": "stdout",
     "output_type": "stream",
     "text": [
      "<class 'pandas.core.frame.DataFrame'>\n",
      "RangeIndex: 48 entries, 0 to 47\n",
      "Data columns (total 12 columns):\n",
      " #   Column                 Non-Null Count  Dtype  \n",
      "---  ------                 --------------  -----  \n",
      " 0   Sample#                48 non-null     int64  \n",
      " 1   Target                 48 non-null     object \n",
      " 2   Weight before[g]       48 non-null     float64\n",
      " 3   Weight After[g]        48 non-null     float64\n",
      " 4   Weight Loss[g]         48 non-null     float64\n",
      " 5   %Weight Loss           48 non-null     float64\n",
      " 6   Thickness Before [mm]  48 non-null     float64\n",
      " 7   Thickness After[mm]    48 non-null     float64\n",
      " 8   Thickness Loss[mm]     48 non-null     float64\n",
      " 9   % Thickness Loss       48 non-null     float64\n",
      " 10  Time(hrs)              48 non-null     int64  \n",
      " 11  Surface Area[L*W]      48 non-null     float64\n",
      "dtypes: float64(9), int64(2), object(1)\n",
      "memory usage: 4.6+ KB\n"
     ]
    }
   ],
   "source": [
    "df.info()"
   ]
  },
  {
   "cell_type": "code",
   "execution_count": 20,
   "id": "39704e4f",
   "metadata": {},
   "outputs": [],
   "source": [
    "from sklearn.model_selection import train_test_split\n",
    "xx_Train, xx_Test,yy_Train,yy_Test = train_test_split(xx, yy, test_size = 0.2, random_state = 42)"
   ]
  },
  {
   "cell_type": "code",
   "execution_count": 21,
   "id": "f1ea36de",
   "metadata": {},
   "outputs": [],
   "source": [
    "from sklearn.preprocessing import StandardScaler\n",
    "sc_xx = StandardScaler()\n",
    "xx_Train = sc_xx.fit_transform(xx_Train)\n",
    "xx_Test = sc_xx.transform(xx_Test)"
   ]
  },
  {
   "cell_type": "markdown",
   "id": "ce96d475",
   "metadata": {},
   "source": [
    "# Support Vector Machine (Best Parameters)"
   ]
  },
  {
   "cell_type": "code",
   "execution_count": 22,
   "id": "3d2d87ea",
   "metadata": {},
   "outputs": [
    {
     "name": "stdout",
     "output_type": "stream",
     "text": [
      "{'C': 1, 'gamma': 'scale', 'kernel': 'rbf'}\n"
     ]
    }
   ],
   "source": [
    "from sklearn.svm import SVC\n",
    "from sklearn.model_selection import GridSearchCV\n",
    "param_grid =[\n",
    "    {'C': [.1, 1, 10, 100],\n",
    "     'gamma' : ['scale', 1, .1, .01, .001, .0001],\n",
    "     'kernel': ['rbf', 'poly']},\n",
    "]\n",
    "\n",
    "opt_params = GridSearchCV(\n",
    "    SVC(),\n",
    "    param_grid,\n",
    "    cv = 5,\n",
    ")\n",
    "opt_params.fit(xx_Train, yy_Train)\n",
    "print(opt_params.best_params_)"
   ]
  },
  {
   "cell_type": "code",
   "execution_count": 23,
   "id": "22d5022f",
   "metadata": {},
   "outputs": [
    {
     "data": {
      "text/plain": [
       "SVC(C=1)"
      ]
     },
     "execution_count": 23,
     "metadata": {},
     "output_type": "execute_result"
    }
   ],
   "source": [
    "sv_classifier = SVC(kernel='rbf', C=1, gamma = 'scale')\n",
    "sv_classifier.fit(xx_Train, yy_Train)"
   ]
  },
  {
   "cell_type": "code",
   "execution_count": 24,
   "id": "2e397141",
   "metadata": {},
   "outputs": [],
   "source": [
    "yy_Pred = sv_classifier.predict(xx_Test)"
   ]
  },
  {
   "cell_type": "code",
   "execution_count": 25,
   "id": "eb0ccb6d",
   "metadata": {},
   "outputs": [
    {
     "name": "stdout",
     "output_type": "stream",
     "text": [
      "Training Accuracy : 1.0\n",
      "Testing Accuracy : 0.7\n"
     ]
    }
   ],
   "source": [
    "print(\"Training Accuracy :\",sv_classifier.score(xx_Train,yy_Train))\n",
    "print(\"Testing Accuracy :\",sv_classifier.score(xx_Test,yy_Test))"
   ]
  },
  {
   "cell_type": "code",
   "execution_count": 26,
   "id": "f1ece4ec",
   "metadata": {},
   "outputs": [
    {
     "data": {
      "text/plain": [
       "0.3"
      ]
     },
     "execution_count": 26,
     "metadata": {},
     "output_type": "execute_result"
    }
   ],
   "source": [
    "from sklearn.metrics import mean_squared_error\n",
    "mean_squared_error(yy_Test, yy_Pred)                #R square error"
   ]
  },
  {
   "cell_type": "code",
   "execution_count": 27,
   "id": "43cc755c",
   "metadata": {},
   "outputs": [],
   "source": [
    "from sklearn.model_selection import cross_val_score\n",
    "score = cross_val_score(sv_classifier, xx, yy, cv= 10)  #Checking for overfitting or underfitting"
   ]
  },
  {
   "cell_type": "code",
   "execution_count": 28,
   "id": "61133a36",
   "metadata": {},
   "outputs": [
    {
     "data": {
      "text/plain": [
       "array([0.8 , 1.  , 1.  , 1.  , 1.  , 1.  , 1.  , 0.8 , 1.  , 0.75])"
      ]
     },
     "execution_count": 28,
     "metadata": {},
     "output_type": "execute_result"
    }
   ],
   "source": [
    "score"
   ]
  },
  {
   "cell_type": "code",
   "execution_count": 29,
   "id": "ea1f9797",
   "metadata": {},
   "outputs": [
    {
     "data": {
      "text/plain": [
       "0.9349999999999999"
      ]
     },
     "execution_count": 29,
     "metadata": {},
     "output_type": "execute_result"
    }
   ],
   "source": [
    "score.mean()"
   ]
  },
  {
   "cell_type": "code",
   "execution_count": 30,
   "id": "1c7e2eee",
   "metadata": {},
   "outputs": [
    {
     "name": "stderr",
     "output_type": "stream",
     "text": [
      "C:\\Users\\User1\\anaconda3\\envs\\corrosion\\lib\\site-packages\\sklearn\\utils\\deprecation.py:87: FutureWarning: Function plot_confusion_matrix is deprecated; Function `plot_confusion_matrix` is deprecated in 1.0 and will be removed in 1.2. Use one of the class methods: ConfusionMatrixDisplay.from_predictions or ConfusionMatrixDisplay.from_estimator.\n",
      "  warnings.warn(msg, category=FutureWarning)\n"
     ]
    },
    {
     "data": {
      "image/png": "[encoded data removed]",
      "text/plain": [
       "<Figure size 432x288 with 2 Axes>"
      ]
     },
     "metadata": {
      "needs_background": "light"
     },
     "output_type": "display_data"
    }
   ],
   "source": [
    "from sklearn.metrics import plot_confusion_matrix\n",
    "plot_confusion_matrix(sv_classifier,\n",
    "                      xx_Test,\n",
    "                      yy_Test,\n",
    "                      values_format = 'd',\n",
    ")\n",
    "plt.show()"
   ]
  },
  {
   "cell_type": "code",
   "execution_count": 31,
   "id": "a628df08",
   "metadata": {},
   "outputs": [
    {
     "name": "stdout",
     "output_type": "stream",
     "text": [
      "Confusion matrix\n",
      "\n",
      " [[1 0 0 0]\n",
      " [0 2 0 0]\n",
      " [0 0 1 3]\n",
      " [0 0 0 3]]\n",
      "\n",
      "True Positives(TP) =  1\n",
      "\n",
      "True Negatives(TN) =  2\n",
      "\n",
      "False Positives(FP) =  0\n",
      "\n",
      "False Negatives(FN) =  0\n"
     ]
    }
   ],
   "source": [
    "from sklearn.metrics import confusion_matrix\n",
    "\n",
    "cm = confusion_matrix(yy_Test, yy_Pred)\n",
    "print('Confusion matrix\\n\\n', cm)\n",
    "\n",
    "print('\\nTrue Positives(TP) = ', cm[0,0])\n",
    "\n",
    "print('\\nTrue Negatives(TN) = ', cm[1,1])\n",
    "\n",
    "print('\\nFalse Positives(FP) = ', cm[0,1])\n",
    "\n",
    "print('\\nFalse Negatives(FN) = ', cm[1,0])"
   ]
  },
  {
   "cell_type": "markdown",
   "id": "b0e3efa8",
   "metadata": {},
   "source": [
    "# Decision Trees (Best Parameters)"
   ]
  },
  {
   "cell_type": "code",
   "execution_count": 32,
   "id": "e209d7f1",
   "metadata": {},
   "outputs": [],
   "source": [
    "xd = df[['Weight Loss[g]','%Weight Loss','Thickness Loss[mm]','% Thickness Loss']]"
   ]
  },
  {
   "cell_type": "code",
   "execution_count": 33,
   "id": "2d9fc7d4",
   "metadata": {},
   "outputs": [],
   "source": [
    "yd = df['Time(hrs)']"
   ]
  },
  {
   "cell_type": "code",
   "execution_count": 34,
   "id": "60798d48",
   "metadata": {},
   "outputs": [],
   "source": [
    "from sklearn.model_selection import train_test_split\n",
    "xd_Train, xd_Test,yd_Train,yd_Test = train_test_split(xd, yd, test_size = 0.21, random_state = 42)"
   ]
  },
  {
   "cell_type": "markdown",
   "id": "d5ee9d2d",
   "metadata": {},
   "source": [
    "# GINI"
   ]
  },
  {
   "cell_type": "code",
   "execution_count": 35,
   "id": "a190a985",
   "metadata": {},
   "outputs": [
    {
     "data": {
      "text/plain": [
       "DecisionTreeClassifier(max_depth=3, random_state=0)"
      ]
     },
     "execution_count": 35,
     "metadata": {},
     "output_type": "execute_result"
    }
   ],
   "source": [
    "from sklearn.tree import DecisionTreeClassifier\n",
    "\n",
    "# instantiate the DecisionTreeClassifier model with criterion gini index\n",
    "\n",
    "clf_gini = DecisionTreeClassifier(criterion='gini', max_depth=3, random_state=0)\n",
    "\n",
    "# fit the model\n",
    "clf_gini.fit(xd_Train, yd_Train)"
   ]
  },
  {
   "cell_type": "code",
   "execution_count": 36,
   "id": "335f7b5b",
   "metadata": {},
   "outputs": [],
   "source": [
    "y_pred_gini = clf_gini.predict(xd_Test)"
   ]
  },
  {
   "cell_type": "code",
   "execution_count": 37,
   "id": "dc603be0",
   "metadata": {},
   "outputs": [
    {
     "name": "stdout",
     "output_type": "stream",
     "text": [
      "Model accuracy score with criterion gini index: 0.7273\n"
     ]
    }
   ],
   "source": [
    "from sklearn.metrics import accuracy_score\n",
    "\n",
    "print('Model accuracy score with criterion gini index: {0:0.4f}'. format(accuracy_score(yd_Test, y_pred_gini)))"
   ]
  },
  {
   "cell_type": "code",
   "execution_count": 38,
   "id": "8c158281",
   "metadata": {},
   "outputs": [
    {
     "name": "stdout",
     "output_type": "stream",
     "text": [
      "Training set score: 1.0000\n",
      "Test set score: 0.7273\n"
     ]
    }
   ],
   "source": [
    "print('Training set score: {:.4f}'.format(clf_gini.score(xd_Train, yd_Train)))\n",
    "\n",
    "print('Test set score: {:.4f}'.format(clf_gini.score(xd_Test, yd_Test)))"
   ]
  },
  {
   "cell_type": "code",
   "execution_count": 188,
   "id": "9c18c0d2",
   "metadata": {},
   "outputs": [
    {
     "data": {
      "text/plain": [
       "0.5222329678670935"
      ]
     },
     "execution_count": 188,
     "metadata": {},
     "output_type": "execute_result"
    }
   ],
   "source": [
    "from sklearn.metrics import mean_squared_error\n",
    "mean_squared_error(yd_Test, y_pred_gini,squared=False)                #R square error"
   ]
  },
  {
   "cell_type": "code",
   "execution_count": 189,
   "id": "cc497757",
   "metadata": {},
   "outputs": [
    {
     "data": {
      "text/plain": [
       "0.835820895522388"
      ]
     },
     "execution_count": 189,
     "metadata": {},
     "output_type": "execute_result"
    }
   ],
   "source": [
    "from sklearn.metrics import r2_score\n",
    "r2_score(yd_Test, y_pred_en) "
   ]
  },
  {
   "cell_type": "code",
   "execution_count": 40,
   "id": "b827c33a",
   "metadata": {},
   "outputs": [],
   "source": [
    "from sklearn.model_selection import cross_val_score\n",
    "score = cross_val_score(clf_gini, xd, yd, cv= 10)  #Checking for overfitting or underfitting"
   ]
  },
  {
   "cell_type": "code",
   "execution_count": 41,
   "id": "1d1d3350",
   "metadata": {},
   "outputs": [
    {
     "data": {
      "text/plain": [
       "array([0.8 , 1.  , 0.8 , 0.8 , 1.  , 1.  , 1.  , 1.  , 1.  , 0.75])"
      ]
     },
     "execution_count": 41,
     "metadata": {},
     "output_type": "execute_result"
    }
   ],
   "source": [
    "score"
   ]
  },
  {
   "cell_type": "code",
   "execution_count": 42,
   "id": "eb87b7d1",
   "metadata": {},
   "outputs": [
    {
     "data": {
      "text/plain": [
       "0.915"
      ]
     },
     "execution_count": 42,
     "metadata": {},
     "output_type": "execute_result"
    }
   ],
   "source": [
    "score.mean()"
   ]
  },
  {
   "cell_type": "markdown",
   "id": "f2382efb",
   "metadata": {},
   "source": [
    "# Entropy"
   ]
  },
  {
   "cell_type": "code",
   "execution_count": 43,
   "id": "12b4da11",
   "metadata": {},
   "outputs": [
    {
     "data": {
      "text/plain": [
       "DecisionTreeClassifier(criterion='entropy', max_depth=3, random_state=123)"
      ]
     },
     "execution_count": 43,
     "metadata": {},
     "output_type": "execute_result"
    }
   ],
   "source": [
    "clf_en = DecisionTreeClassifier(criterion='entropy', max_depth=3, random_state=123)\n",
    "\n",
    "clf_en.fit(xd_Train, yd_Train)"
   ]
  },
  {
   "cell_type": "code",
   "execution_count": 44,
   "id": "bafe2aa7",
   "metadata": {},
   "outputs": [],
   "source": [
    "y_pred_en = clf_en.predict(xd_Test)"
   ]
  },
  {
   "cell_type": "code",
   "execution_count": 45,
   "id": "c529a51a",
   "metadata": {},
   "outputs": [
    {
     "name": "stdout",
     "output_type": "stream",
     "text": [
      "Model accuracy score with criterion entropy: 0.8182\n"
     ]
    }
   ],
   "source": [
    "from sklearn.metrics import accuracy_score\n",
    "\n",
    "print('Model accuracy score with criterion entropy: {0:0.4f}'. format(accuracy_score(yd_Test, y_pred_en)))"
   ]
  },
  {
   "cell_type": "code",
   "execution_count": 181,
   "id": "0535dd37",
   "metadata": {},
   "outputs": [
    {
     "data": {
      "text/plain": [
       "0.4264014327112209"
      ]
     },
     "execution_count": 181,
     "metadata": {},
     "output_type": "execute_result"
    }
   ],
   "source": [
    "from sklearn.metrics import mean_squared_error\n",
    "mean_squared_error(yd_Test, y_pred_en,squared=False)                #R square error"
   ]
  },
  {
   "cell_type": "code",
   "execution_count": 182,
   "id": "f272b9a0",
   "metadata": {},
   "outputs": [],
   "source": [
    "from sklearn.model_selection import cross_val_score\n",
    "score = cross_val_score(clf_en, xd, yd, cv= 10)  #Checking for overfitting or underfitting"
   ]
  },
  {
   "cell_type": "code",
   "execution_count": 185,
   "id": "20eebf27",
   "metadata": {},
   "outputs": [
    {
     "data": {
      "text/plain": [
       "0.835820895522388"
      ]
     },
     "execution_count": 185,
     "metadata": {},
     "output_type": "execute_result"
    }
   ],
   "source": [
    "from sklearn.metrics import r2_score\n",
    "r2_score(yd_Test, y_pred_en) "
   ]
  },
  {
   "cell_type": "code",
   "execution_count": 183,
   "id": "9c3b2e7e",
   "metadata": {},
   "outputs": [
    {
     "data": {
      "text/plain": [
       "array([0.8, 1. , 0.8, 1. , 1. , 1. , 1. , 0.8, 1. , 0.5])"
      ]
     },
     "execution_count": 183,
     "metadata": {},
     "output_type": "execute_result"
    }
   ],
   "source": [
    "score"
   ]
  },
  {
   "cell_type": "code",
   "execution_count": 184,
   "id": "dfd2a99d",
   "metadata": {},
   "outputs": [
    {
     "data": {
      "text/plain": [
       "0.89"
      ]
     },
     "execution_count": 184,
     "metadata": {},
     "output_type": "execute_result"
    }
   ],
   "source": [
    "score.mean()"
   ]
  },
  {
   "cell_type": "markdown",
   "id": "f6576291",
   "metadata": {},
   "source": [
    "# Random Forests (Bagging)"
   ]
  },
  {
   "cell_type": "code",
   "execution_count": 50,
   "id": "415028a3",
   "metadata": {},
   "outputs": [],
   "source": [
    "xr = df[['Weight Loss[g]','%Weight Loss','Thickness Loss[mm]','% Thickness Loss']]"
   ]
  },
  {
   "cell_type": "code",
   "execution_count": 51,
   "id": "8a5ec06f",
   "metadata": {},
   "outputs": [],
   "source": [
    "yr = df['Time(hrs)']"
   ]
  },
  {
   "cell_type": "code",
   "execution_count": 52,
   "id": "777227c6",
   "metadata": {},
   "outputs": [],
   "source": [
    "from sklearn.model_selection import train_test_split\n",
    "xr_Train, xr_Test,yr_Train,yr_Test = train_test_split(xr, yr, test_size = 0.2, random_state = 42)"
   ]
  },
  {
   "cell_type": "code",
   "execution_count": 53,
   "id": "cb440943",
   "metadata": {},
   "outputs": [
    {
     "data": {
      "text/plain": [
       "((38, 4), (10, 4))"
      ]
     },
     "execution_count": 53,
     "metadata": {},
     "output_type": "execute_result"
    }
   ],
   "source": [
    "xr_Train.shape, xr_Test.shape"
   ]
  },
  {
   "cell_type": "code",
   "execution_count": 54,
   "id": "d751d88f",
   "metadata": {},
   "outputs": [
    {
     "name": "stdout",
     "output_type": "stream",
     "text": [
      "Model accuracy score with 10 decision-trees : 0.7000\n"
     ]
    }
   ],
   "source": [
    "# import Random Forest classifier\n",
    "\n",
    "from sklearn.ensemble import RandomForestClassifier\n",
    "\n",
    "# instantiate the classifier \n",
    "\n",
    "rfc = RandomForestClassifier(random_state=0)\n",
    "\n",
    "# fit the model\n",
    "\n",
    "rfc.fit(xr_Train, yr_Train)\n",
    "\n",
    "# Predict the Test set results\n",
    "\n",
    "y_pred = rfc.predict(xr_Test)\n",
    "\n",
    "# Check accuracy score \n",
    "\n",
    "from sklearn.metrics import accuracy_score\n",
    "\n",
    "print('Model accuracy score with 10 decision-trees : {0:0.4f}'. format(accuracy_score(yr_Test, y_pred)))"
   ]
  },
  {
   "cell_type": "code",
   "execution_count": 55,
   "id": "0d57e9e7",
   "metadata": {},
   "outputs": [
    {
     "name": "stdout",
     "output_type": "stream",
     "text": [
      "Training Accuracy : 1.0\n",
      "Testing Accuracy : 0.7\n"
     ]
    }
   ],
   "source": [
    "print(\"Training Accuracy :\",rfc.score(xr_Train,yr_Train))\n",
    "print(\"Testing Accuracy :\",rfc.score(xr_Test,yr_Test))"
   ]
  },
  {
   "cell_type": "code",
   "execution_count": 186,
   "id": "cacd40b5",
   "metadata": {},
   "outputs": [
    {
     "data": {
      "text/plain": [
       "0.5477225575051661"
      ]
     },
     "execution_count": 186,
     "metadata": {},
     "output_type": "execute_result"
    }
   ],
   "source": [
    "from sklearn.metrics import mean_squared_error\n",
    "mean_squared_error(yr_Test, y_pred,squared=False)                #R square error"
   ]
  },
  {
   "cell_type": "code",
   "execution_count": 187,
   "id": "173d70e5",
   "metadata": {},
   "outputs": [
    {
     "data": {
      "text/plain": [
       "0.6629213483146068"
      ]
     },
     "execution_count": 187,
     "metadata": {},
     "output_type": "execute_result"
    }
   ],
   "source": [
    "from sklearn.metrics import r2_score\n",
    "r2_score(yr_Test, y_pred)"
   ]
  },
  {
   "cell_type": "code",
   "execution_count": 57,
   "id": "e3f464f7",
   "metadata": {},
   "outputs": [],
   "source": [
    "from sklearn.model_selection import cross_val_score\n",
    "score = cross_val_score(rfc, xr, yr, cv= 10)  #Checking for overfitting or underfitting"
   ]
  },
  {
   "cell_type": "code",
   "execution_count": 58,
   "id": "35c0ee21",
   "metadata": {},
   "outputs": [
    {
     "data": {
      "text/plain": [
       "array([0.6 , 1.  , 1.  , 1.  , 1.  , 1.  , 1.  , 0.8 , 1.  , 0.75])"
      ]
     },
     "execution_count": 58,
     "metadata": {},
     "output_type": "execute_result"
    }
   ],
   "source": [
    "score"
   ]
  },
  {
   "cell_type": "code",
   "execution_count": 59,
   "id": "1ff7d424",
   "metadata": {},
   "outputs": [
    {
     "data": {
      "text/plain": [
       "0.915"
      ]
     },
     "execution_count": 59,
     "metadata": {},
     "output_type": "execute_result"
    }
   ],
   "source": [
    "score.mean()"
   ]
  },
  {
   "cell_type": "markdown",
   "id": "faf6d090",
   "metadata": {},
   "source": [
    "#                                                 Part One Complete"
   ]
  }
 ],
 "metadata": {
  "kernelspec": {
   "display_name": "Python 3 (ipykernel)",
   "language": "python",
   "name": "python3"
  },
  "language_info": {
   "codemirror_mode": {
    "name": "ipython",
    "version": 3
   },
   "file_extension": ".py",
   "mimetype": "text/x-python",
   "name": "python",
   "nbconvert_exporter": "python",
   "pygments_lexer": "ipython3",
   "version": "3.8.3"
  }
 },
 "nbformat": 4,
 "nbformat_minor": 5
}
